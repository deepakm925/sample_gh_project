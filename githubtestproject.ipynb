{
 "cells": [
  {
   "cell_type": "markdown",
   "metadata": {},
   "source": [
    "# Quiz:  This quiz covers basic operators, debugging null values, conditionals, functions, dictionaries, arrays, classes and touches on Object Oriented programming"
   ]
  },
  {
   "cell_type": "markdown",
   "metadata": {},
   "source": [
    "###### Identify and fix the issue so that the function prints \"Error Fixed!!\""
   ]
  },
  {
   "cell_type": "code",
   "execution_count": 1,
   "metadata": {},
   "outputs": [
    {
     "name": "stdout",
     "output_type": "stream",
     "text": [
      "Error Fixed\n"
     ]
    }
   ],
   "source": [
    "def errorCheck(a = None, b = None):\n",
    "    if a < b:\n",
    "        return \"Error Fixed\"\n",
    "    else:\n",
    "        return \"Error has not been fixed\"\n",
    "    \n",
    "print errorCheck(a = 1, b = 2)"
   ]
  },
  {
   "cell_type": "markdown",
   "metadata": {},
   "source": [
    "##### The function below throws an error when it is called. Identify why and fix it."
   ]
  },
  {
   "cell_type": "code",
   "execution_count": null,
   "metadata": {},
   "outputs": [],
   "source": [
    "def findMe(c = None, d = None):\n",
    "    e = c + d\n",
    "    return e\n",
    "\n",
    "print findMe(d = 4, c=1)\n"
   ]
  }
 ],
 "metadata": {
  "kernelspec": {
   "display_name": "Python 2",
   "language": "python",
   "name": "python2"
  },
  "language_info": {
   "codemirror_mode": {
    "name": "ipython",
    "version": 2
   },
   "file_extension": ".py",
   "mimetype": "text/x-python",
   "name": "python",
   "nbconvert_exporter": "python",
   "pygments_lexer": "ipython2",
   "version": "2.7.14"
  }
 },
 "nbformat": 4,
 "nbformat_minor": 2
}
